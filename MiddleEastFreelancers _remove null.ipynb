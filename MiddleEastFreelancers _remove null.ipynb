{
 "cells": [
  {
   "cell_type": "code",
   "execution_count": 1,
   "id": "04ec728d",
   "metadata": {},
   "outputs": [],
   "source": [
    "import numpy as np\n",
    "import matplotlib.pyplot as plt\n",
    "import pandas as pd"
   ]
  },
  {
   "cell_type": "code",
   "execution_count": 2,
   "id": "3cc94eba",
   "metadata": {},
   "outputs": [],
   "source": [
    "df=pd.read_csv(\"MiddleEastFreelancers_cleaning.csv\")"
   ]
  },
  {
   "cell_type": "code",
   "execution_count": 3,
   "id": "a2574056",
   "metadata": {},
   "outputs": [
    {
     "data": {
      "text/html": [
       "<div>\n",
       "<style scoped>\n",
       "    .dataframe tbody tr th:only-of-type {\n",
       "        vertical-align: middle;\n",
       "    }\n",
       "\n",
       "    .dataframe tbody tr th {\n",
       "        vertical-align: top;\n",
       "    }\n",
       "\n",
       "    .dataframe thead th {\n",
       "        text-align: right;\n",
       "    }\n",
       "</style>\n",
       "<table border=\"1\" class=\"dataframe\">\n",
       "  <thead>\n",
       "    <tr style=\"text-align: right;\">\n",
       "      <th></th>\n",
       "      <th>name</th>\n",
       "      <th>location</th>\n",
       "      <th>price_per_hour</th>\n",
       "      <th>user_score</th>\n",
       "      <th>verified_user</th>\n",
       "      <th>skills</th>\n",
       "      <th>description</th>\n",
       "      <th>recommended</th>\n",
       "    </tr>\n",
       "  </thead>\n",
       "  <tbody>\n",
       "    <tr>\n",
       "      <th>0</th>\n",
       "      <td>Asad K.</td>\n",
       "      <td>Pakistan</td>\n",
       "      <td>$66</td>\n",
       "      <td>22900</td>\n",
       "      <td>1</td>\n",
       "      <td>Brand Design,Website Development,WordPress Des...</td>\n",
       "      <td>Top #1 Freelance Web Developer | Freelance Gra...</td>\n",
       "      <td>1</td>\n",
       "    </tr>\n",
       "    <tr>\n",
       "      <th>1</th>\n",
       "      <td>Mohamed A.</td>\n",
       "      <td>Egypt</td>\n",
       "      <td>$10</td>\n",
       "      <td>15925</td>\n",
       "      <td>1</td>\n",
       "      <td>Motion Graphics,Video Editing,Graphic Design,L...</td>\n",
       "      <td>Professional Designer |  Video Editor | Motion...</td>\n",
       "      <td>1</td>\n",
       "    </tr>\n",
       "    <tr>\n",
       "      <th>2</th>\n",
       "      <td>Zeinab S.</td>\n",
       "      <td>United Arab Emirates</td>\n",
       "      <td>$20</td>\n",
       "      <td>8184</td>\n",
       "      <td>1</td>\n",
       "      <td>Business Proposal Writing,Content Writing,Copy...</td>\n",
       "      <td>I am a Business Analyst &amp; Psychologist by day,...</td>\n",
       "      <td>1</td>\n",
       "    </tr>\n",
       "    <tr>\n",
       "      <th>3</th>\n",
       "      <td>Nimra A.</td>\n",
       "      <td>United Arab Emirates</td>\n",
       "      <td>$20</td>\n",
       "      <td>6623</td>\n",
       "      <td>1</td>\n",
       "      <td>Content Writing,Article Writing,Social Media M...</td>\n",
       "      <td>Freelance Writer | Expert Researcher | Social ...</td>\n",
       "      <td>1</td>\n",
       "    </tr>\n",
       "    <tr>\n",
       "      <th>4</th>\n",
       "      <td>Ahmed S.</td>\n",
       "      <td>United Arab Emirates</td>\n",
       "      <td>$55</td>\n",
       "      <td>4825</td>\n",
       "      <td>1</td>\n",
       "      <td>PHP,React native,Laravel Framework,C#</td>\n",
       "      <td>UI &amp; UX | Web &amp; App Developer | Graphic Design...</td>\n",
       "      <td>1</td>\n",
       "    </tr>\n",
       "    <tr>\n",
       "      <th>5</th>\n",
       "      <td>Nohma E.</td>\n",
       "      <td>Lebanon</td>\n",
       "      <td>$25</td>\n",
       "      <td>4794</td>\n",
       "      <td>0</td>\n",
       "      <td>2D Design,3D Animation,3D Design,3D Modeling</td>\n",
       "      <td>Freelance Interior Designer and Architect</td>\n",
       "      <td>1</td>\n",
       "    </tr>\n",
       "    <tr>\n",
       "      <th>6</th>\n",
       "      <td>Rania H.</td>\n",
       "      <td>United Arab Emirates</td>\n",
       "      <td>$35</td>\n",
       "      <td>4350</td>\n",
       "      <td>0</td>\n",
       "      <td>2D Design,3D Design,3D Modeling,3D Rendering</td>\n",
       "      <td>Freelance Architect &amp; interior designer with 8...</td>\n",
       "      <td>1</td>\n",
       "    </tr>\n",
       "    <tr>\n",
       "      <th>7</th>\n",
       "      <td>Farrah Z.</td>\n",
       "      <td>United Arab Emirates</td>\n",
       "      <td>$20</td>\n",
       "      <td>3675</td>\n",
       "      <td>0</td>\n",
       "      <td>Academic Writing,Creative Writing,Content Writ...</td>\n",
       "      <td>Creative Content Writer | English Teacher| Tra...</td>\n",
       "      <td>1</td>\n",
       "    </tr>\n",
       "    <tr>\n",
       "      <th>8</th>\n",
       "      <td>Tasneem E.</td>\n",
       "      <td>Egypt</td>\n",
       "      <td>$20</td>\n",
       "      <td>3645</td>\n",
       "      <td>1</td>\n",
       "      <td>Digital Marketing,Account Management,Email Mar...</td>\n",
       "      <td>Digital Marketer | Social Media Strategist | F...</td>\n",
       "      <td>1</td>\n",
       "    </tr>\n",
       "    <tr>\n",
       "      <th>9</th>\n",
       "      <td>Ruba G.</td>\n",
       "      <td>Lebanon</td>\n",
       "      <td>$20</td>\n",
       "      <td>3450</td>\n",
       "      <td>1</td>\n",
       "      <td>Adobe Photoshop,Adobe Illustrator,Brand Design...</td>\n",
       "      <td>Freelance Graphic Designer | Visual Communicator</td>\n",
       "      <td>1</td>\n",
       "    </tr>\n",
       "  </tbody>\n",
       "</table>\n",
       "</div>"
      ],
      "text/plain": [
       "          name              location price_per_hour  user_score  \\\n",
       "0     Asad K.               Pakistan            $66       22900   \n",
       "1  Mohamed A.                  Egypt            $10       15925   \n",
       "2   Zeinab S.   United Arab Emirates            $20        8184   \n",
       "3    Nimra A.   United Arab Emirates            $20        6623   \n",
       "4    Ahmed S.   United Arab Emirates            $55        4825   \n",
       "5     Nohma E.               Lebanon            $25        4794   \n",
       "6     Rania H.  United Arab Emirates            $35        4350   \n",
       "7    Farrah Z.  United Arab Emirates            $20        3675   \n",
       "8  Tasneem E.                  Egypt            $20        3645   \n",
       "9     Ruba G.                Lebanon            $20        3450   \n",
       "\n",
       "   verified_user                                             skills  \\\n",
       "0              1  Brand Design,Website Development,WordPress Des...   \n",
       "1              1  Motion Graphics,Video Editing,Graphic Design,L...   \n",
       "2              1  Business Proposal Writing,Content Writing,Copy...   \n",
       "3              1  Content Writing,Article Writing,Social Media M...   \n",
       "4              1              PHP,React native,Laravel Framework,C#   \n",
       "5              0       2D Design,3D Animation,3D Design,3D Modeling   \n",
       "6              0       2D Design,3D Design,3D Modeling,3D Rendering   \n",
       "7              0  Academic Writing,Creative Writing,Content Writ...   \n",
       "8              1  Digital Marketing,Account Management,Email Mar...   \n",
       "9              1  Adobe Photoshop,Adobe Illustrator,Brand Design...   \n",
       "\n",
       "                                         description  recommended  \n",
       "0  Top #1 Freelance Web Developer | Freelance Gra...            1  \n",
       "1  Professional Designer |  Video Editor | Motion...            1  \n",
       "2  I am a Business Analyst & Psychologist by day,...            1  \n",
       "3  Freelance Writer | Expert Researcher | Social ...            1  \n",
       "4  UI & UX | Web & App Developer | Graphic Design...            1  \n",
       "5          Freelance Interior Designer and Architect            1  \n",
       "6  Freelance Architect & interior designer with 8...            1  \n",
       "7  Creative Content Writer | English Teacher| Tra...            1  \n",
       "8  Digital Marketer | Social Media Strategist | F...            1  \n",
       "9   Freelance Graphic Designer | Visual Communicator            1  "
      ]
     },
     "execution_count": 3,
     "metadata": {},
     "output_type": "execute_result"
    }
   ],
   "source": [
    "df.head(10)"
   ]
  },
  {
   "cell_type": "code",
   "execution_count": 5,
   "id": "919f80b3",
   "metadata": {},
   "outputs": [
    {
     "data": {
      "text/plain": [
       "(3000, 8)"
      ]
     },
     "execution_count": 5,
     "metadata": {},
     "output_type": "execute_result"
    }
   ],
   "source": [
    "df.shape"
   ]
  },
  {
   "cell_type": "code",
   "execution_count": 6,
   "id": "944e63a3",
   "metadata": {},
   "outputs": [
    {
     "name": "stdout",
     "output_type": "stream",
     "text": [
      "<class 'pandas.core.frame.DataFrame'>\n",
      "RangeIndex: 3000 entries, 0 to 2999\n",
      "Data columns (total 8 columns):\n",
      " #   Column          Non-Null Count  Dtype \n",
      "---  ------          --------------  ----- \n",
      " 0   name            3000 non-null   object\n",
      " 1   location        3000 non-null   object\n",
      " 2   price_per_hour  3000 non-null   object\n",
      " 3   user_score      3000 non-null   int64 \n",
      " 4   verified_user   3000 non-null   int64 \n",
      " 5   skills          3000 non-null   object\n",
      " 6   description     2921 non-null   object\n",
      " 7   recommended     3000 non-null   int64 \n",
      "dtypes: int64(3), object(5)\n",
      "memory usage: 187.6+ KB\n"
     ]
    }
   ],
   "source": [
    "df.info()"
   ]
  },
  {
   "cell_type": "code",
   "execution_count": 8,
   "id": "b4dbff0b",
   "metadata": {},
   "outputs": [
    {
     "data": {
      "text/html": [
       "<div>\n",
       "<style scoped>\n",
       "    .dataframe tbody tr th:only-of-type {\n",
       "        vertical-align: middle;\n",
       "    }\n",
       "\n",
       "    .dataframe tbody tr th {\n",
       "        vertical-align: top;\n",
       "    }\n",
       "\n",
       "    .dataframe thead th {\n",
       "        text-align: right;\n",
       "    }\n",
       "</style>\n",
       "<table border=\"1\" class=\"dataframe\">\n",
       "  <thead>\n",
       "    <tr style=\"text-align: right;\">\n",
       "      <th></th>\n",
       "      <th>count</th>\n",
       "      <th>mean</th>\n",
       "      <th>std</th>\n",
       "      <th>min</th>\n",
       "      <th>25%</th>\n",
       "      <th>50%</th>\n",
       "      <th>75%</th>\n",
       "      <th>max</th>\n",
       "    </tr>\n",
       "  </thead>\n",
       "  <tbody>\n",
       "    <tr>\n",
       "      <th>user_score</th>\n",
       "      <td>3000.0</td>\n",
       "      <td>82.556667</td>\n",
       "      <td>600.171022</td>\n",
       "      <td>24.0</td>\n",
       "      <td>25.0</td>\n",
       "      <td>25.0</td>\n",
       "      <td>38.0</td>\n",
       "      <td>22900.0</td>\n",
       "    </tr>\n",
       "    <tr>\n",
       "      <th>verified_user</th>\n",
       "      <td>3000.0</td>\n",
       "      <td>0.484333</td>\n",
       "      <td>0.499838</td>\n",
       "      <td>0.0</td>\n",
       "      <td>0.0</td>\n",
       "      <td>0.0</td>\n",
       "      <td>1.0</td>\n",
       "      <td>1.0</td>\n",
       "    </tr>\n",
       "    <tr>\n",
       "      <th>recommended</th>\n",
       "      <td>3000.0</td>\n",
       "      <td>0.008333</td>\n",
       "      <td>0.090921</td>\n",
       "      <td>0.0</td>\n",
       "      <td>0.0</td>\n",
       "      <td>0.0</td>\n",
       "      <td>0.0</td>\n",
       "      <td>1.0</td>\n",
       "    </tr>\n",
       "  </tbody>\n",
       "</table>\n",
       "</div>"
      ],
      "text/plain": [
       "                count       mean         std   min   25%   50%   75%      max\n",
       "user_score     3000.0  82.556667  600.171022  24.0  25.0  25.0  38.0  22900.0\n",
       "verified_user  3000.0   0.484333    0.499838   0.0   0.0   0.0   1.0      1.0\n",
       "recommended    3000.0   0.008333    0.090921   0.0   0.0   0.0   0.0      1.0"
      ]
     },
     "execution_count": 8,
     "metadata": {},
     "output_type": "execute_result"
    }
   ],
   "source": [
    "df.describe().T"
   ]
  },
  {
   "cell_type": "code",
   "execution_count": 9,
   "id": "8a94450a",
   "metadata": {},
   "outputs": [
    {
     "data": {
      "text/plain": [
       "Index(['name', 'location', 'price_per_hour', 'user_score', 'verified_user',\n",
       "       'skills', 'description', 'recommended'],\n",
       "      dtype='object')"
      ]
     },
     "execution_count": 9,
     "metadata": {},
     "output_type": "execute_result"
    }
   ],
   "source": [
    "df.columns"
   ]
  },
  {
   "cell_type": "code",
   "execution_count": 10,
   "id": "d3da2e53",
   "metadata": {},
   "outputs": [
    {
     "data": {
      "text/plain": [
       "name              object\n",
       "location          object\n",
       "price_per_hour    object\n",
       "user_score         int64\n",
       "verified_user      int64\n",
       "skills            object\n",
       "description       object\n",
       "recommended        int64\n",
       "dtype: object"
      ]
     },
     "execution_count": 10,
     "metadata": {},
     "output_type": "execute_result"
    }
   ],
   "source": [
    "df.dtypes"
   ]
  },
  {
   "cell_type": "code",
   "execution_count": 11,
   "id": "fb4e56a7",
   "metadata": {},
   "outputs": [
    {
     "data": {
      "text/plain": [
       "United Arab Emirates        1025\n",
       "Pakistan                     623\n",
       "Egypt                        428\n",
       "Lebanon                      223\n",
       "Saudi Arabia                 200\n",
       "India                        143\n",
       "Jordan                        74\n",
       "Palestine                     67\n",
       "Tunisia                       60\n",
       "Philippines                   44\n",
       "Turkey                        14\n",
       "Kuwait                         8\n",
       "Algeria                        8\n",
       "Iran                           6\n",
       "Nigeria                        6\n",
       "United Kingdom                 5\n",
       "Ukraine                        5\n",
       "Bangladesh                     4\n",
       "Germany                        4\n",
       "Bahrain                        4\n",
       "Sudan                          4\n",
       "Israel                         4\n",
       "Kenya                          4\n",
       "United States of America       4\n",
       "Qatar                          3\n",
       "Syria                          3\n",
       "Iraq                           3\n",
       "Morocco                        3\n",
       "Sri Lanka                      2\n",
       "Brazil                         2\n",
       "Tanzania                       2\n",
       "South Africa                   2\n",
       "France                         2\n",
       "Italy                          1\n",
       "Greece                         1\n",
       "Mexico                         1\n",
       "Canada                         1\n",
       "Zimbabwe                       1\n",
       "Antigua And Barbuda            1\n",
       "Vietnam                        1\n",
       "Oman                           1\n",
       "Poland                         1\n",
       "Peru                           1\n",
       "Australia                      1\n",
       "Name: location, dtype: int64"
      ]
     },
     "execution_count": 11,
     "metadata": {},
     "output_type": "execute_result"
    }
   ],
   "source": [
    "df[\"location\"].value_counts()\n"
   ]
  },
  {
   "cell_type": "code",
   "execution_count": 12,
   "id": "61371e3a",
   "metadata": {},
   "outputs": [
    {
     "data": {
      "text/plain": [
       "0    2975\n",
       "1      25\n",
       "Name: recommended, dtype: int64"
      ]
     },
     "execution_count": 12,
     "metadata": {},
     "output_type": "execute_result"
    }
   ],
   "source": [
    "df[\"recommended\"].value_counts()   "
   ]
  },
  {
   "cell_type": "code",
   "execution_count": 14,
   "id": "437a8930",
   "metadata": {},
   "outputs": [
    {
     "data": {
      "text/plain": [
       "0    1547\n",
       "1    1453\n",
       "Name: verified_user, dtype: int64"
      ]
     },
     "execution_count": 14,
     "metadata": {},
     "output_type": "execute_result"
    }
   ],
   "source": [
    "df[\"verified_user\"].value_counts()  "
   ]
  },
  {
   "cell_type": "code",
   "execution_count": 15,
   "id": "864d80bd",
   "metadata": {},
   "outputs": [
    {
     "data": {
      "text/plain": [
       "2D Design,3D Design,3D Modeling,3D Rendering                                 49\n",
       "2D Design,3D Animation,3D Design,3D Modeling                                 16\n",
       "3D Animation,3D Design,3D Modeling,3D Rendering                              11\n",
       "2D Animation,2D Design,3D Animation,3D Design                                 8\n",
       "Cost Estimation                                                               6\n",
       "                                                                             ..\n",
       "Adobe Illustrator,Adobe Photoshop,Digital Marketing,Direct Mail Marketing     1\n",
       "2D Design,Adobe Illustrator,Adobe Photoshop,Computer Skills                   1\n",
       "Adobe Illustrator,Adobe Photoshop,Adobe Photoshop Lightroom,CorelDRAW         1\n",
       "Banner Ad Design,Brochure Design,Flyer Design,Graphic Design                  1\n",
       "3D Animation,2D Design,3D Design,3D Modeling                                  1\n",
       "Name: skills, Length: 2725, dtype: int64"
      ]
     },
     "execution_count": 15,
     "metadata": {},
     "output_type": "execute_result"
    }
   ],
   "source": [
    "df[\"skills\"].value_counts()                                                                               "
   ]
  },
  {
   "cell_type": "code",
   "execution_count": 16,
   "id": "3f747414",
   "metadata": {},
   "outputs": [
    {
     "data": {
      "text/plain": [
       "Muhammad A.     21\n",
       "Muhammad A.     11\n",
       "Ahmed S.        10\n",
       "Mohamed A.       9\n",
       "Muhammad U.      8\n",
       "                ..\n",
       "Kashif S.        1\n",
       "Saima H.         1\n",
       "Maria K.         1\n",
       "Qasim K.         1\n",
       "Yasser M.        1\n",
       "Name: name, Length: 2638, dtype: int64"
      ]
     },
     "execution_count": 16,
     "metadata": {},
     "output_type": "execute_result"
    }
   ],
   "source": [
    "df[\"name\"].value_counts() "
   ]
  },
  {
   "cell_type": "code",
   "execution_count": 17,
   "id": "c62aaf98",
   "metadata": {},
   "outputs": [
    {
     "data": {
      "text/plain": [
       "0"
      ]
     },
     "execution_count": 17,
     "metadata": {},
     "output_type": "execute_result"
    }
   ],
   "source": [
    "df.duplicated().sum()"
   ]
  },
  {
   "cell_type": "code",
   "execution_count": 19,
   "id": "75ff58c0",
   "metadata": {},
   "outputs": [
    {
     "data": {
      "text/plain": [
       "name               0\n",
       "location           0\n",
       "price_per_hour     0\n",
       "user_score         0\n",
       "verified_user      0\n",
       "skills             0\n",
       "description       79\n",
       "recommended        0\n",
       "dtype: int64"
      ]
     },
     "execution_count": 19,
     "metadata": {},
     "output_type": "execute_result"
    }
   ],
   "source": [
    "df.isna().sum()"
   ]
  },
  {
   "cell_type": "code",
   "execution_count": 21,
   "id": "41397677",
   "metadata": {},
   "outputs": [],
   "source": [
    "df.replace(np.nan,'?',inplace = True)\n"
   ]
  },
  {
   "cell_type": "code",
   "execution_count": 22,
   "id": "d484c206",
   "metadata": {},
   "outputs": [
    {
     "data": {
      "text/plain": [
       "name              0\n",
       "location          0\n",
       "price_per_hour    0\n",
       "user_score        0\n",
       "verified_user     0\n",
       "skills            0\n",
       "description       0\n",
       "recommended       0\n",
       "dtype: int64"
      ]
     },
     "execution_count": 22,
     "metadata": {},
     "output_type": "execute_result"
    }
   ],
   "source": [
    "df.isnull().sum()"
   ]
  }
 ],
 "metadata": {
  "kernelspec": {
   "display_name": "Python 3 (ipykernel)",
   "language": "python",
   "name": "python3"
  },
  "language_info": {
   "codemirror_mode": {
    "name": "ipython",
    "version": 3
   },
   "file_extension": ".py",
   "mimetype": "text/x-python",
   "name": "python",
   "nbconvert_exporter": "python",
   "pygments_lexer": "ipython3",
   "version": "3.9.13"
  }
 },
 "nbformat": 4,
 "nbformat_minor": 5
}

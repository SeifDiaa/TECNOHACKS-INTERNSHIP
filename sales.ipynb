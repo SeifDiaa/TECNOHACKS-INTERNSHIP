{
 "cells": [
  {
   "cell_type": "code",
   "execution_count": 1,
   "id": "713281c9",
   "metadata": {},
   "outputs": [],
   "source": [
    "import pandas as pd \n",
    "import numpy as np \n",
    "import matplotlib.pyplot as plt\n",
    "import seaborn as sns\n",
    "%matplotlib inline\n",
    "import warnings\n",
    "warnings.filterwarnings('ignore')\n"
   ]
  },
  {
   "cell_type": "code",
   "execution_count": 2,
   "id": "ac2a3504",
   "metadata": {},
   "outputs": [],
   "source": [
    "df=pd.read_csv(\"Sales Dataset.csv\")"
   ]
  },
  {
   "cell_type": "code",
   "execution_count": 4,
   "id": "02c27819",
   "metadata": {},
   "outputs": [
    {
     "data": {
      "text/html": [
       "<div>\n",
       "<style scoped>\n",
       "    .dataframe tbody tr th:only-of-type {\n",
       "        vertical-align: middle;\n",
       "    }\n",
       "\n",
       "    .dataframe tbody tr th {\n",
       "        vertical-align: top;\n",
       "    }\n",
       "\n",
       "    .dataframe thead th {\n",
       "        text-align: right;\n",
       "    }\n",
       "</style>\n",
       "<table border=\"1\" class=\"dataframe\">\n",
       "  <thead>\n",
       "    <tr style=\"text-align: right;\">\n",
       "      <th></th>\n",
       "      <th>Date</th>\n",
       "      <th>Product</th>\n",
       "      <th>Category</th>\n",
       "      <th>Channel</th>\n",
       "      <th>Segment</th>\n",
       "      <th>Region</th>\n",
       "      <th>Price</th>\n",
       "      <th>Quantity</th>\n",
       "      <th>Discount</th>\n",
       "    </tr>\n",
       "  </thead>\n",
       "  <tbody>\n",
       "    <tr>\n",
       "      <th>0</th>\n",
       "      <td>1/1/2020</td>\n",
       "      <td>Pumps</td>\n",
       "      <td>Accessories</td>\n",
       "      <td>Whole Sale</td>\n",
       "      <td>Business</td>\n",
       "      <td>Alex</td>\n",
       "      <td>10</td>\n",
       "      <td>2</td>\n",
       "      <td>0.11</td>\n",
       "    </tr>\n",
       "    <tr>\n",
       "      <th>1</th>\n",
       "      <td>1/1/2020</td>\n",
       "      <td>Brakes</td>\n",
       "      <td>Components</td>\n",
       "      <td>Retail</td>\n",
       "      <td>Business</td>\n",
       "      <td>Alex</td>\n",
       "      <td>5</td>\n",
       "      <td>3</td>\n",
       "      <td>0.15</td>\n",
       "    </tr>\n",
       "    <tr>\n",
       "      <th>2</th>\n",
       "      <td>1/1/2020</td>\n",
       "      <td>Bike Racks</td>\n",
       "      <td>Accessories</td>\n",
       "      <td>Whole Sale</td>\n",
       "      <td>Consumer</td>\n",
       "      <td>Alex</td>\n",
       "      <td>10</td>\n",
       "      <td>1</td>\n",
       "      <td>0.12</td>\n",
       "    </tr>\n",
       "    <tr>\n",
       "      <th>3</th>\n",
       "      <td>1/1/2020</td>\n",
       "      <td>Shorts</td>\n",
       "      <td>Clothing</td>\n",
       "      <td>Retail</td>\n",
       "      <td>Consumer</td>\n",
       "      <td>Alex</td>\n",
       "      <td>12</td>\n",
       "      <td>1</td>\n",
       "      <td>0.15</td>\n",
       "    </tr>\n",
       "    <tr>\n",
       "      <th>4</th>\n",
       "      <td>1/1/2020</td>\n",
       "      <td>Handlebars</td>\n",
       "      <td>Components</td>\n",
       "      <td>Whole Sale</td>\n",
       "      <td>Consumer</td>\n",
       "      <td>Alex</td>\n",
       "      <td>7</td>\n",
       "      <td>3</td>\n",
       "      <td>0.11</td>\n",
       "    </tr>\n",
       "    <tr>\n",
       "      <th>5</th>\n",
       "      <td>1/1/2020</td>\n",
       "      <td>Brakes</td>\n",
       "      <td>Components</td>\n",
       "      <td>Whole Sale</td>\n",
       "      <td>Business</td>\n",
       "      <td>Alex</td>\n",
       "      <td>5</td>\n",
       "      <td>2</td>\n",
       "      <td>0.15</td>\n",
       "    </tr>\n",
       "    <tr>\n",
       "      <th>6</th>\n",
       "      <td>1/1/2020</td>\n",
       "      <td>Bib-Shorts</td>\n",
       "      <td>Clothing</td>\n",
       "      <td>Whole Sale</td>\n",
       "      <td>Business</td>\n",
       "      <td>Alex</td>\n",
       "      <td>12</td>\n",
       "      <td>1</td>\n",
       "      <td>0.13</td>\n",
       "    </tr>\n",
       "    <tr>\n",
       "      <th>7</th>\n",
       "      <td>1/1/2020</td>\n",
       "      <td>Helmets</td>\n",
       "      <td>Accessories</td>\n",
       "      <td>Door to Door</td>\n",
       "      <td>Business</td>\n",
       "      <td>Alex</td>\n",
       "      <td>11</td>\n",
       "      <td>1</td>\n",
       "      <td>0.11</td>\n",
       "    </tr>\n",
       "    <tr>\n",
       "      <th>8</th>\n",
       "      <td>1/1/2020</td>\n",
       "      <td>Pumps</td>\n",
       "      <td>Accessories</td>\n",
       "      <td>Whole Sale</td>\n",
       "      <td>Consumer</td>\n",
       "      <td>Alex</td>\n",
       "      <td>10</td>\n",
       "      <td>2</td>\n",
       "      <td>0.11</td>\n",
       "    </tr>\n",
       "    <tr>\n",
       "      <th>9</th>\n",
       "      <td>1/1/2020</td>\n",
       "      <td>Lights</td>\n",
       "      <td>Accessories</td>\n",
       "      <td>Door to Door</td>\n",
       "      <td>Consumer</td>\n",
       "      <td>Alex</td>\n",
       "      <td>7</td>\n",
       "      <td>3</td>\n",
       "      <td>0.14</td>\n",
       "    </tr>\n",
       "  </tbody>\n",
       "</table>\n",
       "</div>"
      ],
      "text/plain": [
       "       Date     Product     Category       Channel   Segment Region  Price  \\\n",
       "0  1/1/2020       Pumps  Accessories    Whole Sale  Business   Alex     10   \n",
       "1  1/1/2020      Brakes   Components        Retail  Business   Alex      5   \n",
       "2  1/1/2020  Bike Racks  Accessories    Whole Sale  Consumer   Alex     10   \n",
       "3  1/1/2020      Shorts     Clothing        Retail  Consumer   Alex     12   \n",
       "4  1/1/2020  Handlebars   Components    Whole Sale  Consumer   Alex      7   \n",
       "5  1/1/2020      Brakes   Components    Whole Sale  Business   Alex      5   \n",
       "6  1/1/2020  Bib-Shorts     Clothing    Whole Sale  Business   Alex     12   \n",
       "7  1/1/2020     Helmets  Accessories  Door to Door  Business   Alex     11   \n",
       "8  1/1/2020       Pumps  Accessories    Whole Sale  Consumer   Alex     10   \n",
       "9  1/1/2020      Lights  Accessories  Door to Door  Consumer   Alex      7   \n",
       "\n",
       "   Quantity  Discount  \n",
       "0         2      0.11  \n",
       "1         3      0.15  \n",
       "2         1      0.12  \n",
       "3         1      0.15  \n",
       "4         3      0.11  \n",
       "5         2      0.15  \n",
       "6         1      0.13  \n",
       "7         1      0.11  \n",
       "8         2      0.11  \n",
       "9         3      0.14  "
      ]
     },
     "execution_count": 4,
     "metadata": {},
     "output_type": "execute_result"
    }
   ],
   "source": [
    "df.head(10)"
   ]
  },
  {
   "cell_type": "code",
   "execution_count": 5,
   "id": "0c5464a2",
   "metadata": {},
   "outputs": [],
   "source": [
    "prod_index=df.set_index(\"Region\")"
   ]
  },
  {
   "cell_type": "code",
   "execution_count": 6,
   "id": "88a0c06b",
   "metadata": {},
   "outputs": [
    {
     "name": "stdout",
     "output_type": "stream",
     "text": [
      "            Date          Product     Category       Channel   Segment  Price  \\\n",
      "Region                                                                          \n",
      "Alex    1/1/2020            Pumps  Accessories    Whole Sale  Business     10   \n",
      "Alex    1/1/2020           Brakes   Components        Retail  Business      5   \n",
      "Alex    1/1/2020       Bike Racks  Accessories    Whole Sale  Consumer     10   \n",
      "Alex    1/1/2020           Shorts     Clothing        Retail  Consumer     12   \n",
      "Alex    1/1/2020       Handlebars   Components    Whole Sale  Consumer      7   \n",
      "...          ...              ...          ...           ...       ...    ...   \n",
      "Cairo   07/01/20  Bottom Brackets   Components  Door to Door  Business      3   \n",
      "Cairo   07/01/20          Helmets  Accessories  Key Accounts  Business     11   \n",
      "Cairo   07/01/20  Bottom Brackets   Components  Key Accounts  Business      3   \n",
      "Cairo   07/01/20           Gloves     Clothing  Key Accounts  Business     15   \n",
      "Cairo   07/01/20            Locks  Accessories  Key Accounts  Consumer      9   \n",
      "\n",
      "        Quantity  Discount  \n",
      "Region                      \n",
      "Alex           2      0.11  \n",
      "Alex           3      0.15  \n",
      "Alex           1      0.12  \n",
      "Alex           1      0.15  \n",
      "Alex           3      0.11  \n",
      "...          ...       ...  \n",
      "Cairo          2      0.14  \n",
      "Cairo          3      0.10  \n",
      "Cairo          1      0.13  \n",
      "Cairo          2      0.14  \n",
      "Cairo          2      0.11  \n",
      "\n",
      "[583 rows x 8 columns]\n"
     ]
    }
   ],
   "source": [
    "print(prod_index)\n",
    "\n",
    "\n"
   ]
  },
  {
   "cell_type": "code",
   "execution_count": 7,
   "id": "765cf5d1",
   "metadata": {},
   "outputs": [
    {
     "data": {
      "text/html": [
       "<div>\n",
       "<style scoped>\n",
       "    .dataframe tbody tr th:only-of-type {\n",
       "        vertical-align: middle;\n",
       "    }\n",
       "\n",
       "    .dataframe tbody tr th {\n",
       "        vertical-align: top;\n",
       "    }\n",
       "\n",
       "    .dataframe thead th {\n",
       "        text-align: right;\n",
       "    }\n",
       "</style>\n",
       "<table border=\"1\" class=\"dataframe\">\n",
       "  <thead>\n",
       "    <tr style=\"text-align: right;\">\n",
       "      <th></th>\n",
       "      <th>Date</th>\n",
       "      <th>Product</th>\n",
       "      <th>Category</th>\n",
       "      <th>Channel</th>\n",
       "      <th>Segment</th>\n",
       "      <th>Region</th>\n",
       "      <th>Price</th>\n",
       "      <th>Quantity</th>\n",
       "      <th>Discount</th>\n",
       "    </tr>\n",
       "  </thead>\n",
       "  <tbody>\n",
       "    <tr>\n",
       "      <th>0</th>\n",
       "      <td>1/1/2020</td>\n",
       "      <td>Pumps</td>\n",
       "      <td>Accessories</td>\n",
       "      <td>Whole Sale</td>\n",
       "      <td>Business</td>\n",
       "      <td>Alex</td>\n",
       "      <td>10</td>\n",
       "      <td>2</td>\n",
       "      <td>0.11</td>\n",
       "    </tr>\n",
       "    <tr>\n",
       "      <th>8</th>\n",
       "      <td>1/1/2020</td>\n",
       "      <td>Pumps</td>\n",
       "      <td>Accessories</td>\n",
       "      <td>Whole Sale</td>\n",
       "      <td>Consumer</td>\n",
       "      <td>Alex</td>\n",
       "      <td>10</td>\n",
       "      <td>2</td>\n",
       "      <td>0.11</td>\n",
       "    </tr>\n",
       "    <tr>\n",
       "      <th>28</th>\n",
       "      <td>1/2/2020</td>\n",
       "      <td>Pumps</td>\n",
       "      <td>Accessories</td>\n",
       "      <td>Door to Door</td>\n",
       "      <td>Business</td>\n",
       "      <td>Alex</td>\n",
       "      <td>10</td>\n",
       "      <td>3</td>\n",
       "      <td>0.11</td>\n",
       "    </tr>\n",
       "    <tr>\n",
       "      <th>42</th>\n",
       "      <td>1/2/2020</td>\n",
       "      <td>Pumps</td>\n",
       "      <td>Accessories</td>\n",
       "      <td>Whole Sale</td>\n",
       "      <td>Business</td>\n",
       "      <td>Alex</td>\n",
       "      <td>10</td>\n",
       "      <td>3</td>\n",
       "      <td>0.14</td>\n",
       "    </tr>\n",
       "    <tr>\n",
       "      <th>59</th>\n",
       "      <td>1/3/2020</td>\n",
       "      <td>Pumps</td>\n",
       "      <td>Accessories</td>\n",
       "      <td>Key Accounts</td>\n",
       "      <td>Consumer</td>\n",
       "      <td>Alex</td>\n",
       "      <td>10</td>\n",
       "      <td>2</td>\n",
       "      <td>0.14</td>\n",
       "    </tr>\n",
       "    <tr>\n",
       "      <th>187</th>\n",
       "      <td>1/7/2020</td>\n",
       "      <td>Pumps</td>\n",
       "      <td>Accessories</td>\n",
       "      <td>Retail</td>\n",
       "      <td>Business</td>\n",
       "      <td>Alex</td>\n",
       "      <td>10</td>\n",
       "      <td>2</td>\n",
       "      <td>0.13</td>\n",
       "    </tr>\n",
       "    <tr>\n",
       "      <th>190</th>\n",
       "      <td>1/7/2020</td>\n",
       "      <td>Pumps</td>\n",
       "      <td>Accessories</td>\n",
       "      <td>Whole Sale</td>\n",
       "      <td>Consumer</td>\n",
       "      <td>Alex</td>\n",
       "      <td>10</td>\n",
       "      <td>2</td>\n",
       "      <td>0.14</td>\n",
       "    </tr>\n",
       "    <tr>\n",
       "      <th>269</th>\n",
       "      <td>03/01/20</td>\n",
       "      <td>Pumps</td>\n",
       "      <td>Accessories</td>\n",
       "      <td>Door to Door</td>\n",
       "      <td>Consumer</td>\n",
       "      <td>Giza</td>\n",
       "      <td>10</td>\n",
       "      <td>2</td>\n",
       "      <td>0.10</td>\n",
       "    </tr>\n",
       "    <tr>\n",
       "      <th>275</th>\n",
       "      <td>03/01/20</td>\n",
       "      <td>Pumps</td>\n",
       "      <td>Accessories</td>\n",
       "      <td>Door to Door</td>\n",
       "      <td>Business</td>\n",
       "      <td>Giza</td>\n",
       "      <td>10</td>\n",
       "      <td>3</td>\n",
       "      <td>0.15</td>\n",
       "    </tr>\n",
       "    <tr>\n",
       "      <th>314</th>\n",
       "      <td>05/01/20</td>\n",
       "      <td>Pumps</td>\n",
       "      <td>Accessories</td>\n",
       "      <td>Door to Door</td>\n",
       "      <td>Consumer</td>\n",
       "      <td>Giza</td>\n",
       "      <td>10</td>\n",
       "      <td>2</td>\n",
       "      <td>0.15</td>\n",
       "    </tr>\n",
       "    <tr>\n",
       "      <th>349</th>\n",
       "      <td>06/01/20</td>\n",
       "      <td>Pumps</td>\n",
       "      <td>Accessories</td>\n",
       "      <td>Whole Sale</td>\n",
       "      <td>Consumer</td>\n",
       "      <td>Giza</td>\n",
       "      <td>10</td>\n",
       "      <td>3</td>\n",
       "      <td>0.11</td>\n",
       "    </tr>\n",
       "    <tr>\n",
       "      <th>369</th>\n",
       "      <td>07/01/20</td>\n",
       "      <td>Pumps</td>\n",
       "      <td>Accessories</td>\n",
       "      <td>Whole Sale</td>\n",
       "      <td>Business</td>\n",
       "      <td>Giza</td>\n",
       "      <td>10</td>\n",
       "      <td>1</td>\n",
       "      <td>0.15</td>\n",
       "    </tr>\n",
       "    <tr>\n",
       "      <th>399</th>\n",
       "      <td>01/01/20</td>\n",
       "      <td>Pumps</td>\n",
       "      <td>Accessories</td>\n",
       "      <td>Key Accounts</td>\n",
       "      <td>Business</td>\n",
       "      <td>Cairo</td>\n",
       "      <td>10</td>\n",
       "      <td>1</td>\n",
       "      <td>0.15</td>\n",
       "    </tr>\n",
       "    <tr>\n",
       "      <th>404</th>\n",
       "      <td>01/01/20</td>\n",
       "      <td>Pumps</td>\n",
       "      <td>Accessories</td>\n",
       "      <td>Whole Sale</td>\n",
       "      <td>Consumer</td>\n",
       "      <td>Cairo</td>\n",
       "      <td>10</td>\n",
       "      <td>1</td>\n",
       "      <td>0.15</td>\n",
       "    </tr>\n",
       "    <tr>\n",
       "      <th>412</th>\n",
       "      <td>01/01/20</td>\n",
       "      <td>Pumps</td>\n",
       "      <td>Accessories</td>\n",
       "      <td>Whole Sale</td>\n",
       "      <td>Consumer</td>\n",
       "      <td>Cairo</td>\n",
       "      <td>10</td>\n",
       "      <td>1</td>\n",
       "      <td>0.12</td>\n",
       "    </tr>\n",
       "    <tr>\n",
       "      <th>418</th>\n",
       "      <td>01/01/20</td>\n",
       "      <td>Pumps</td>\n",
       "      <td>Accessories</td>\n",
       "      <td>Whole Sale</td>\n",
       "      <td>Business</td>\n",
       "      <td>Cairo</td>\n",
       "      <td>10</td>\n",
       "      <td>1</td>\n",
       "      <td>0.12</td>\n",
       "    </tr>\n",
       "    <tr>\n",
       "      <th>421</th>\n",
       "      <td>01/01/20</td>\n",
       "      <td>Pumps</td>\n",
       "      <td>Accessories</td>\n",
       "      <td>Retail</td>\n",
       "      <td>Business</td>\n",
       "      <td>Cairo</td>\n",
       "      <td>10</td>\n",
       "      <td>1</td>\n",
       "      <td>0.12</td>\n",
       "    </tr>\n",
       "    <tr>\n",
       "      <th>436</th>\n",
       "      <td>02/01/20</td>\n",
       "      <td>Pumps</td>\n",
       "      <td>Accessories</td>\n",
       "      <td>Door to Door</td>\n",
       "      <td>Consumer</td>\n",
       "      <td>Cairo</td>\n",
       "      <td>10</td>\n",
       "      <td>3</td>\n",
       "      <td>0.14</td>\n",
       "    </tr>\n",
       "    <tr>\n",
       "      <th>461</th>\n",
       "      <td>03/01/20</td>\n",
       "      <td>Pumps</td>\n",
       "      <td>Accessories</td>\n",
       "      <td>Retail</td>\n",
       "      <td>Consumer</td>\n",
       "      <td>Cairo</td>\n",
       "      <td>10</td>\n",
       "      <td>2</td>\n",
       "      <td>0.10</td>\n",
       "    </tr>\n",
       "    <tr>\n",
       "      <th>470</th>\n",
       "      <td>03/01/20</td>\n",
       "      <td>Pumps</td>\n",
       "      <td>Accessories</td>\n",
       "      <td>Retail</td>\n",
       "      <td>Consumer</td>\n",
       "      <td>Cairo</td>\n",
       "      <td>10</td>\n",
       "      <td>1</td>\n",
       "      <td>0.14</td>\n",
       "    </tr>\n",
       "    <tr>\n",
       "      <th>538</th>\n",
       "      <td>06/01/20</td>\n",
       "      <td>Pumps</td>\n",
       "      <td>Accessories</td>\n",
       "      <td>Retail</td>\n",
       "      <td>Business</td>\n",
       "      <td>Cairo</td>\n",
       "      <td>10</td>\n",
       "      <td>3</td>\n",
       "      <td>0.15</td>\n",
       "    </tr>\n",
       "    <tr>\n",
       "      <th>549</th>\n",
       "      <td>06/01/20</td>\n",
       "      <td>Pumps</td>\n",
       "      <td>Accessories</td>\n",
       "      <td>Retail</td>\n",
       "      <td>Business</td>\n",
       "      <td>Cairo</td>\n",
       "      <td>10</td>\n",
       "      <td>1</td>\n",
       "      <td>0.15</td>\n",
       "    </tr>\n",
       "    <tr>\n",
       "      <th>574</th>\n",
       "      <td>07/01/20</td>\n",
       "      <td>Pumps</td>\n",
       "      <td>Accessories</td>\n",
       "      <td>Door to Door</td>\n",
       "      <td>Business</td>\n",
       "      <td>Cairo</td>\n",
       "      <td>10</td>\n",
       "      <td>3</td>\n",
       "      <td>0.10</td>\n",
       "    </tr>\n",
       "  </tbody>\n",
       "</table>\n",
       "</div>"
      ],
      "text/plain": [
       "         Date Product     Category       Channel   Segment Region  Price  \\\n",
       "0    1/1/2020   Pumps  Accessories    Whole Sale  Business   Alex     10   \n",
       "8    1/1/2020   Pumps  Accessories    Whole Sale  Consumer   Alex     10   \n",
       "28   1/2/2020   Pumps  Accessories  Door to Door  Business   Alex     10   \n",
       "42   1/2/2020   Pumps  Accessories    Whole Sale  Business   Alex     10   \n",
       "59   1/3/2020   Pumps  Accessories  Key Accounts  Consumer   Alex     10   \n",
       "187  1/7/2020   Pumps  Accessories        Retail  Business   Alex     10   \n",
       "190  1/7/2020   Pumps  Accessories    Whole Sale  Consumer   Alex     10   \n",
       "269  03/01/20   Pumps  Accessories  Door to Door  Consumer   Giza     10   \n",
       "275  03/01/20   Pumps  Accessories  Door to Door  Business   Giza     10   \n",
       "314  05/01/20   Pumps  Accessories  Door to Door  Consumer   Giza     10   \n",
       "349  06/01/20   Pumps  Accessories    Whole Sale  Consumer   Giza     10   \n",
       "369  07/01/20   Pumps  Accessories    Whole Sale  Business   Giza     10   \n",
       "399  01/01/20   Pumps  Accessories  Key Accounts  Business  Cairo     10   \n",
       "404  01/01/20   Pumps  Accessories    Whole Sale  Consumer  Cairo     10   \n",
       "412  01/01/20   Pumps  Accessories    Whole Sale  Consumer  Cairo     10   \n",
       "418  01/01/20   Pumps  Accessories    Whole Sale  Business  Cairo     10   \n",
       "421  01/01/20   Pumps  Accessories        Retail  Business  Cairo     10   \n",
       "436  02/01/20   Pumps  Accessories  Door to Door  Consumer  Cairo     10   \n",
       "461  03/01/20   Pumps  Accessories        Retail  Consumer  Cairo     10   \n",
       "470  03/01/20   Pumps  Accessories        Retail  Consumer  Cairo     10   \n",
       "538  06/01/20   Pumps  Accessories        Retail  Business  Cairo     10   \n",
       "549  06/01/20   Pumps  Accessories        Retail  Business  Cairo     10   \n",
       "574  07/01/20   Pumps  Accessories  Door to Door  Business  Cairo     10   \n",
       "\n",
       "     Quantity  Discount  \n",
       "0           2      0.11  \n",
       "8           2      0.11  \n",
       "28          3      0.11  \n",
       "42          3      0.14  \n",
       "59          2      0.14  \n",
       "187         2      0.13  \n",
       "190         2      0.14  \n",
       "269         2      0.10  \n",
       "275         3      0.15  \n",
       "314         2      0.15  \n",
       "349         3      0.11  \n",
       "369         1      0.15  \n",
       "399         1      0.15  \n",
       "404         1      0.15  \n",
       "412         1      0.12  \n",
       "418         1      0.12  \n",
       "421         1      0.12  \n",
       "436         3      0.14  \n",
       "461         2      0.10  \n",
       "470         1      0.14  \n",
       "538         3      0.15  \n",
       "549         1      0.15  \n",
       "574         3      0.10  "
      ]
     },
     "execution_count": 7,
     "metadata": {},
     "output_type": "execute_result"
    }
   ],
   "source": [
    "df[(df[\"Product\"] == \"Pumps\") & (df[\"Category\"] == \"Accessories\")]\n",
    "\n"
   ]
  },
  {
   "cell_type": "code",
   "execution_count": 27,
   "id": "18f5cc0d",
   "metadata": {},
   "outputs": [
    {
     "data": {
      "text/html": [
       "<div>\n",
       "<style scoped>\n",
       "    .dataframe tbody tr th:only-of-type {\n",
       "        vertical-align: middle;\n",
       "    }\n",
       "\n",
       "    .dataframe tbody tr th {\n",
       "        vertical-align: top;\n",
       "    }\n",
       "\n",
       "    .dataframe thead th {\n",
       "        text-align: right;\n",
       "    }\n",
       "</style>\n",
       "<table border=\"1\" class=\"dataframe\">\n",
       "  <thead>\n",
       "    <tr style=\"text-align: right;\">\n",
       "      <th></th>\n",
       "      <th>Date</th>\n",
       "      <th>Product</th>\n",
       "      <th>Category</th>\n",
       "      <th>Channel</th>\n",
       "      <th>Segment</th>\n",
       "      <th>Region</th>\n",
       "      <th>Price</th>\n",
       "      <th>Quantity</th>\n",
       "      <th>Discount</th>\n",
       "    </tr>\n",
       "  </thead>\n",
       "  <tbody>\n",
       "    <tr>\n",
       "      <th>0</th>\n",
       "      <td>1/1/2020</td>\n",
       "      <td>Pumps</td>\n",
       "      <td>Accessories</td>\n",
       "      <td>Whole Sale</td>\n",
       "      <td>Business</td>\n",
       "      <td>Alex</td>\n",
       "      <td>10</td>\n",
       "      <td>2</td>\n",
       "      <td>0.11</td>\n",
       "    </tr>\n",
       "    <tr>\n",
       "      <th>1</th>\n",
       "      <td>1/1/2020</td>\n",
       "      <td>Brakes</td>\n",
       "      <td>Components</td>\n",
       "      <td>Retail</td>\n",
       "      <td>Business</td>\n",
       "      <td>Alex</td>\n",
       "      <td>5</td>\n",
       "      <td>3</td>\n",
       "      <td>0.15</td>\n",
       "    </tr>\n",
       "    <tr>\n",
       "      <th>2</th>\n",
       "      <td>1/1/2020</td>\n",
       "      <td>Bike Racks</td>\n",
       "      <td>Accessories</td>\n",
       "      <td>Whole Sale</td>\n",
       "      <td>Consumer</td>\n",
       "      <td>Alex</td>\n",
       "      <td>10</td>\n",
       "      <td>1</td>\n",
       "      <td>0.12</td>\n",
       "    </tr>\n",
       "    <tr>\n",
       "      <th>3</th>\n",
       "      <td>1/1/2020</td>\n",
       "      <td>Shorts</td>\n",
       "      <td>Clothing</td>\n",
       "      <td>Retail</td>\n",
       "      <td>Consumer</td>\n",
       "      <td>Alex</td>\n",
       "      <td>12</td>\n",
       "      <td>1</td>\n",
       "      <td>0.15</td>\n",
       "    </tr>\n",
       "    <tr>\n",
       "      <th>4</th>\n",
       "      <td>1/1/2020</td>\n",
       "      <td>Handlebars</td>\n",
       "      <td>Components</td>\n",
       "      <td>Whole Sale</td>\n",
       "      <td>Consumer</td>\n",
       "      <td>Alex</td>\n",
       "      <td>7</td>\n",
       "      <td>3</td>\n",
       "      <td>0.11</td>\n",
       "    </tr>\n",
       "  </tbody>\n",
       "</table>\n",
       "</div>"
      ],
      "text/plain": [
       "       Date     Product     Category     Channel   Segment Region  Price  \\\n",
       "0  1/1/2020       Pumps  Accessories  Whole Sale  Business   Alex     10   \n",
       "1  1/1/2020      Brakes   Components      Retail  Business   Alex      5   \n",
       "2  1/1/2020  Bike Racks  Accessories  Whole Sale  Consumer   Alex     10   \n",
       "3  1/1/2020      Shorts     Clothing      Retail  Consumer   Alex     12   \n",
       "4  1/1/2020  Handlebars   Components  Whole Sale  Consumer   Alex      7   \n",
       "\n",
       "   Quantity  Discount  \n",
       "0         2      0.11  \n",
       "1         3      0.15  \n",
       "2         1      0.12  \n",
       "3         1      0.15  \n",
       "4         3      0.11  "
      ]
     },
     "execution_count": 27,
     "metadata": {},
     "output_type": "execute_result"
    }
   ],
   "source": [
    "df.head()"
   ]
  },
  {
   "cell_type": "code",
   "execution_count": 18,
   "id": "fef12dbe",
   "metadata": {},
   "outputs": [
    {
     "data": {
      "text/html": [
       "<div>\n",
       "<style scoped>\n",
       "    .dataframe tbody tr th:only-of-type {\n",
       "        vertical-align: middle;\n",
       "    }\n",
       "\n",
       "    .dataframe tbody tr th {\n",
       "        vertical-align: top;\n",
       "    }\n",
       "\n",
       "    .dataframe thead th {\n",
       "        text-align: right;\n",
       "    }\n",
       "</style>\n",
       "<table border=\"1\" class=\"dataframe\">\n",
       "  <thead>\n",
       "    <tr style=\"text-align: right;\">\n",
       "      <th></th>\n",
       "      <th>count</th>\n",
       "      <th>mean</th>\n",
       "      <th>std</th>\n",
       "      <th>min</th>\n",
       "      <th>25%</th>\n",
       "      <th>50%</th>\n",
       "      <th>75%</th>\n",
       "      <th>max</th>\n",
       "    </tr>\n",
       "  </thead>\n",
       "  <tbody>\n",
       "    <tr>\n",
       "      <th>Price</th>\n",
       "      <td>583.0</td>\n",
       "      <td>38.629503</td>\n",
       "      <td>67.569971</td>\n",
       "      <td>3.0</td>\n",
       "      <td>7.00</td>\n",
       "      <td>11.00</td>\n",
       "      <td>15.00</td>\n",
       "      <td>246.00</td>\n",
       "    </tr>\n",
       "    <tr>\n",
       "      <th>Quantity</th>\n",
       "      <td>583.0</td>\n",
       "      <td>1.981132</td>\n",
       "      <td>0.813115</td>\n",
       "      <td>1.0</td>\n",
       "      <td>1.00</td>\n",
       "      <td>2.00</td>\n",
       "      <td>3.00</td>\n",
       "      <td>3.00</td>\n",
       "    </tr>\n",
       "    <tr>\n",
       "      <th>Discount</th>\n",
       "      <td>583.0</td>\n",
       "      <td>0.124803</td>\n",
       "      <td>0.017249</td>\n",
       "      <td>0.1</td>\n",
       "      <td>0.11</td>\n",
       "      <td>0.13</td>\n",
       "      <td>0.14</td>\n",
       "      <td>0.15</td>\n",
       "    </tr>\n",
       "  </tbody>\n",
       "</table>\n",
       "</div>"
      ],
      "text/plain": [
       "          count       mean        std  min   25%    50%    75%     max\n",
       "Price     583.0  38.629503  67.569971  3.0  7.00  11.00  15.00  246.00\n",
       "Quantity  583.0   1.981132   0.813115  1.0  1.00   2.00   3.00    3.00\n",
       "Discount  583.0   0.124803   0.017249  0.1  0.11   0.13   0.14    0.15"
      ]
     },
     "execution_count": 18,
     "metadata": {},
     "output_type": "execute_result"
    }
   ],
   "source": [
    "df.describe().T"
   ]
  },
  {
   "cell_type": "code",
   "execution_count": 13,
   "id": "d934593c",
   "metadata": {},
   "outputs": [
    {
     "name": "stdout",
     "output_type": "stream",
     "text": [
      "<class 'pandas.core.frame.DataFrame'>\n",
      "RangeIndex: 583 entries, 0 to 582\n",
      "Data columns (total 9 columns):\n",
      " #   Column    Non-Null Count  Dtype  \n",
      "---  ------    --------------  -----  \n",
      " 0   Date      583 non-null    object \n",
      " 1   Product   583 non-null    object \n",
      " 2   Category  583 non-null    object \n",
      " 3   Channel   583 non-null    object \n",
      " 4   Segment   583 non-null    object \n",
      " 5   Region    583 non-null    object \n",
      " 6   Price     583 non-null    int64  \n",
      " 7   Quantity  583 non-null    int64  \n",
      " 8   Discount  583 non-null    float64\n",
      "dtypes: float64(1), int64(2), object(6)\n",
      "memory usage: 41.1+ KB\n"
     ]
    }
   ],
   "source": [
    "df.info()"
   ]
  },
  {
   "cell_type": "code",
   "execution_count": 24,
   "id": "9c6fa5a2",
   "metadata": {
    "scrolled": true
   },
   "outputs": [
    {
     "data": {
      "text/plain": [
       "Road Bikes         36\n",
       "Locks              30\n",
       "Touring Bikes      27\n",
       "Cargo Bike         27\n",
       "Tires and Tubes    27\n",
       "Bib-Shorts         26\n",
       "Tights             25\n",
       "Brakes             24\n",
       "Mountain Bikes     24\n",
       "Bottom Brackets    24\n",
       "Lights             24\n",
       "Shorts             24\n",
       "Jerseys            23\n",
       "Caps               23\n",
       "Helmets            23\n",
       "Pumps              23\n",
       "Handlebars         22\n",
       "Gloves             21\n",
       "Vests              20\n",
       "Wheels             20\n",
       "Socks              20\n",
       "Bike Racks         19\n",
       "Chains             18\n",
       "Pedals             18\n",
       "Saddles            15\n",
       "Name: Product, dtype: int64"
      ]
     },
     "execution_count": 24,
     "metadata": {},
     "output_type": "execute_result"
    }
   ],
   "source": [
    "df[\"Product\"].value_counts()"
   ]
  },
  {
   "cell_type": "code",
   "execution_count": 25,
   "id": "105fecb5",
   "metadata": {},
   "outputs": [
    {
     "data": {
      "text/plain": [
       "Clothing       182\n",
       "Accessories    146\n",
       "Components     141\n",
       "Bikes          114\n",
       "Name: Category, dtype: int64"
      ]
     },
     "execution_count": 25,
     "metadata": {},
     "output_type": "execute_result"
    }
   ],
   "source": [
    "df[\"Category\"].value_counts()"
   ]
  },
  {
   "cell_type": "code",
   "execution_count": 26,
   "id": "71709cd2",
   "metadata": {},
   "outputs": [
    {
     "data": {
      "text/plain": [
       "Alex     199\n",
       "Giza     198\n",
       "Cairo    186\n",
       "Name: Region, dtype: int64"
      ]
     },
     "execution_count": 26,
     "metadata": {},
     "output_type": "execute_result"
    }
   ],
   "source": [
    "df[\"Region\"].value_counts()"
   ]
  },
  {
   "cell_type": "code",
   "execution_count": 45,
   "id": "e8364cbc",
   "metadata": {},
   "outputs": [
    {
     "data": {
      "text/plain": [
       "Door to Door    160\n",
       "Whole Sale      153\n",
       "Retail          142\n",
       "Key Accounts    127\n",
       "Name: Channel, dtype: int64"
      ]
     },
     "execution_count": 45,
     "metadata": {},
     "output_type": "execute_result"
    }
   ],
   "source": [
    "df[\"Channel\"].value_counts()"
   ]
  },
  {
   "cell_type": "code",
   "execution_count": 32,
   "id": "4362dce4",
   "metadata": {},
   "outputs": [
    {
     "data": {
      "text/plain": [
       "'01/01/20'"
      ]
     },
     "execution_count": 32,
     "metadata": {},
     "output_type": "execute_result"
    }
   ],
   "source": [
    "df[\"Date\"].min()"
   ]
  },
  {
   "cell_type": "code",
   "execution_count": 33,
   "id": "9b39a0c8",
   "metadata": {},
   "outputs": [
    {
     "data": {
      "text/plain": [
       "'1/7/2020'"
      ]
     },
     "execution_count": 33,
     "metadata": {},
     "output_type": "execute_result"
    }
   ],
   "source": [
    "df[\"Date\"].max()"
   ]
  },
  {
   "cell_type": "code",
   "execution_count": 34,
   "id": "1a0c22c2",
   "metadata": {},
   "outputs": [
    {
     "data": {
      "text/plain": [
       "Door to Door    160\n",
       "Whole Sale      153\n",
       "Retail          142\n",
       "Key Accounts    128\n",
       "Name: Channel, dtype: int64"
      ]
     },
     "execution_count": 34,
     "metadata": {},
     "output_type": "execute_result"
    }
   ],
   "source": [
    "df[\"Channel\"].value_counts()"
   ]
  },
  {
   "cell_type": "code",
   "execution_count": 36,
   "id": "9b72260d",
   "metadata": {},
   "outputs": [
    {
     "data": {
      "text/plain": [
       "Date        0\n",
       "Product     0\n",
       "Category    0\n",
       "Channel     0\n",
       "Segment     0\n",
       "Region      0\n",
       "Price       0\n",
       "Quantity    0\n",
       "Discount    0\n",
       "dtype: int64"
      ]
     },
     "execution_count": 36,
     "metadata": {},
     "output_type": "execute_result"
    }
   ],
   "source": [
    "df.isna().sum()"
   ]
  },
  {
   "cell_type": "code",
   "execution_count": 127,
   "id": "964b1bec",
   "metadata": {},
   "outputs": [
    {
     "data": {
      "text/plain": [
       "1"
      ]
     },
     "execution_count": 127,
     "metadata": {},
     "output_type": "execute_result"
    }
   ],
   "source": [
    "df.duplicated().sum()"
   ]
  },
  {
   "cell_type": "code",
   "execution_count": 128,
   "id": "68e9dd83",
   "metadata": {},
   "outputs": [],
   "source": [
    "df.drop_duplicates(inplace=True)"
   ]
  },
  {
   "cell_type": "code",
   "execution_count": 129,
   "id": "0fca82d4",
   "metadata": {},
   "outputs": [
    {
     "data": {
      "text/plain": [
       "0"
      ]
     },
     "execution_count": 129,
     "metadata": {},
     "output_type": "execute_result"
    }
   ],
   "source": [
    "df.duplicated().sum()"
   ]
  },
  {
   "cell_type": "code",
   "execution_count": 130,
   "id": "7cc15679",
   "metadata": {},
   "outputs": [
    {
     "data": {
      "image/png": "[encoded data removed]",
      "text/plain": [
       "<Figure size 300x300 with 1 Axes>"
      ]
     },
     "metadata": {},
     "output_type": "display_data"
    },
    {
     "data": {
      "image/png": "[encoded data removed]",
      "text/plain": [
       "<Figure size 300x300 with 1 Axes>"
      ]
     },
     "metadata": {},
     "output_type": "display_data"
    },
    {
     "data": {
      "image/png": "[encoded data removed]",
      "text/plain": [
       "<Figure size 300x300 with 1 Axes>"
      ]
     },
     "metadata": {},
     "output_type": "display_data"
    }
   ],
   "source": [
    "for col in df.select_dtypes(\"number\").columns:\n",
    "    plt.figure(figsize=(3,3))\n",
    "    sns.boxplot(df[col])\n",
    "    plt.subplot()\n",
    "    plt.show()"
   ]
  },
  {
   "cell_type": "code",
   "execution_count": 131,
   "id": "51bbea11",
   "metadata": {},
   "outputs": [],
   "source": [
    "for col in df.select_dtypes(\"number\").columns:\n",
    "    Q1 = np.quantile(df[col], 0.25)\n",
    "    Q3 = np.quantile(df[col], 0.75)\n",
    "    IQR = Q3 - Q1\n",
    "    \n",
    "    upper_limit = Q3 + (1.5 * IQR)\n",
    "    lower_limit=Q1-(1.5*IQR)\n",
    "    \n",
    "    upper_outliers = df[df[col] > upper_limit][col].values\n",
    "    df[col].replace(upper_outliers, upper_limit, inplace=True)\n",
    "    low_outliers=df[df[col]<lower_limit][col].values\n",
    "    df[col].replace(low_outliers,lower_limit,inplace=True) "
   ]
  },
  {
   "cell_type": "code",
   "execution_count": 132,
   "id": "a2c4dceb",
   "metadata": {},
   "outputs": [
    {
     "data": {
      "image/png": "[encoded data removed]",
      "text/plain": [
       "<Figure size 300x300 with 1 Axes>"
      ]
     },
     "metadata": {},
     "output_type": "display_data"
    },
    {
     "data": {
      "image/png": "[encoded data removed]",
      "text/plain": [
       "<Figure size 300x300 with 1 Axes>"
      ]
     },
     "metadata": {},
     "output_type": "display_data"
    },
    {
     "data": {
      "image/png": "[encoded data removed]",
      "text/plain": [
       "<Figure size 300x300 with 1 Axes>"
      ]
     },
     "metadata": {},
     "output_type": "display_data"
    }
   ],
   "source": [
    "for col in df.select_dtypes(\"number\").columns:\n",
    "    plt.figure(figsize=(3,3))\n",
    "    sns.boxplot(df[col])\n",
    "    plt.subplot()\n",
    "    plt.show()"
   ]
  },
  {
   "cell_type": "code",
   "execution_count": 133,
   "id": "b8d0e821",
   "metadata": {},
   "outputs": [
    {
     "data": {
      "image/png": "[encoded data removed]",
      "text/plain": [
       "<Figure size 640x480 with 1 Axes>"
      ]
     },
     "metadata": {},
     "output_type": "display_data"
    }
   ],
   "source": [
    "sns.countplot(y=\"Product\",data=df)\n",
    "plt.show()"
   ]
  },
  {
   "cell_type": "code",
   "execution_count": 134,
   "id": "7527e14e",
   "metadata": {},
   "outputs": [
    {
     "data": {
      "text/plain": [
       "<AxesSubplot:>"
      ]
     },
     "execution_count": 134,
     "metadata": {},
     "output_type": "execute_result"
    },
    {
     "data": {
      "image/png": "[encoded data removed]",
      "text/plain": [
       "<Figure size 640x480 with 1 Axes>"
      ]
     },
     "metadata": {},
     "output_type": "display_data"
    }
   ],
   "source": [
    "df[\"Price\"].hist()"
   ]
  },
  {
   "cell_type": "code",
   "execution_count": 135,
   "id": "17721965",
   "metadata": {},
   "outputs": [
    {
     "data": {
      "text/plain": [
       "27"
      ]
     },
     "execution_count": 135,
     "metadata": {},
     "output_type": "execute_result"
    }
   ],
   "source": [
    "df[\"Price\"].max()"
   ]
  },
  {
   "cell_type": "code",
   "execution_count": 64,
   "id": "878754f6",
   "metadata": {},
   "outputs": [
    {
     "data": {
      "image/png": "[encoded data removed]",
      "text/plain": [
       "<Figure size 640x480 with 1 Axes>"
      ]
     },
     "metadata": {},
     "output_type": "display_data"
    }
   ],
   "source": [
    "sns.countplot(x=\"Region\",data=df)\n",
    "plt.show()\n"
   ]
  },
  {
   "cell_type": "code",
   "execution_count": 63,
   "id": "73189bd9",
   "metadata": {},
   "outputs": [
    {
     "data": {
      "image/png": "[encoded data removed]",
      "text/plain": [
       "<Figure size 640x480 with 1 Axes>"
      ]
     },
     "metadata": {},
     "output_type": "display_data"
    }
   ],
   "source": [
    "sns.countplot(x=\"Category\",data=df)\n",
    "plt.show()\n"
   ]
  },
  {
   "cell_type": "code",
   "execution_count": 65,
   "id": "632b572a",
   "metadata": {},
   "outputs": [
    {
     "data": {
      "image/png": "[encoded data removed]",
      "text/plain": [
       "<Figure size 640x480 with 1 Axes>"
      ]
     },
     "metadata": {},
     "output_type": "display_data"
    }
   ],
   "source": [
    "sns.countplot(x=\"Channel\",data=df)\n",
    "plt.show()\n"
   ]
  },
  {
   "cell_type": "code",
   "execution_count": 69,
   "id": "44a343c3",
   "metadata": {},
   "outputs": [
    {
     "data": {
      "image/png": "[encoded data removed]",
      "text/plain": [
       "<Figure size 640x480 with 1 Axes>"
      ]
     },
     "metadata": {},
     "output_type": "display_data"
    }
   ],
   "source": [
    "sns.scatterplot(df[\"Quantity\"],df[\"Discount\"],data=df)\n",
    "plt.show()"
   ]
  },
  {
   "cell_type": "code",
   "execution_count": 71,
   "id": "cd0bbcfb",
   "metadata": {},
   "outputs": [
    {
     "data": {
      "image/png": "[encoded data removed]",
      "text/plain": [
       "<Figure size 640x480 with 4 Axes>"
      ]
     },
     "metadata": {},
     "output_type": "display_data"
    }
   ],
   "source": [
    "df.hist()\n",
    "plt.show()"
   ]
  },
  {
   "cell_type": "code",
   "execution_count": 143,
   "id": "bf686649",
   "metadata": {},
   "outputs": [
    {
     "data": {
      "image/png": "[encoded data removed]",
      "text/plain": [
       "<Figure size 640x480 with 1 Axes>"
      ]
     },
     "metadata": {},
     "output_type": "display_data"
    }
   ],
   "source": [
    "df.plot(='Price', kind='bar')\n",
    "plt.show()\n"
   ]
  },
  {
   "cell_type": "code",
   "execution_count": 161,
   "id": "3693f6f7",
   "metadata": {},
   "outputs": [
    {
     "data": {
      "image/png": "[encoded data removed]",
      "text/plain": [
       "<Figure size 640x480 with 1 Axes>"
      ]
     },
     "metadata": {},
     "output_type": "display_data"
    }
   ],
   "source": [
    "df[(df[\"Region\"] == \"Alex\") | (df[\"Region\"] == \"Cairo\")][\"Price\"].hist(alpha=0.70)\n",
    "plt.legend([\"cairo\",\"Alex\"])\n",
    "plt.show()"
   ]
  },
  {
   "cell_type": "code",
   "execution_count": null,
   "id": "7f650905",
   "metadata": {},
   "outputs": [],
   "source": []
  },
  {
   "cell_type": "code",
   "execution_count": null,
   "id": "db5cd2af",
   "metadata": {},
   "outputs": [],
   "source": []
  },
  {
   "cell_type": "code",
   "execution_count": null,
   "id": "19df2829",
   "metadata": {},
   "outputs": [],
   "source": []
  },
  {
   "cell_type": "code",
   "execution_count": null,
   "id": "14312d60",
   "metadata": {},
   "outputs": [],
   "source": []
  }
 ],
 "metadata": {
  "kernelspec": {
   "display_name": "Python 3 (ipykernel)",
   "language": "python",
   "name": "python3"
  },
  "language_info": {
   "codemirror_mode": {
    "name": "ipython",
    "version": 3
   },
   "file_extension": ".py",
   "mimetype": "text/x-python",
   "name": "python",
   "nbconvert_exporter": "python",
   "pygments_lexer": "ipython3",
   "version": "3.9.13"
  }
 },
 "nbformat": 4,
 "nbformat_minor": 5
}
